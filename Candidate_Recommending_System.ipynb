{
 "cells": [
  {
   "cell_type": "markdown",
   "metadata": {},
   "source": [
    "# 1.Importing the dataset"
   ]
  },
  {
   "cell_type": "code",
   "execution_count": 1,
   "metadata": {},
   "outputs": [],
   "source": [
    "import pandas as pd\n",
    "import matplotlib.pyplot as plt\n",
    "import seaborn as sns\n",
    "import numpy as np"
   ]
  },
  {
   "cell_type": "code",
   "execution_count": 2,
   "metadata": {},
   "outputs": [],
   "source": [
    "df=pd.read_excel(\"Candidate Pseudo Data.xlsx\")"
   ]
  },
  {
   "cell_type": "code",
   "execution_count": 3,
   "metadata": {},
   "outputs": [
    {
     "data": {
      "text/html": [
       "<div>\n",
       "<style scoped>\n",
       "    .dataframe tbody tr th:only-of-type {\n",
       "        vertical-align: middle;\n",
       "    }\n",
       "\n",
       "    .dataframe tbody tr th {\n",
       "        vertical-align: top;\n",
       "    }\n",
       "\n",
       "    .dataframe thead th {\n",
       "        text-align: right;\n",
       "    }\n",
       "</style>\n",
       "<table border=\"1\" class=\"dataframe\">\n",
       "  <thead>\n",
       "    <tr style=\"text-align: right;\">\n",
       "      <th></th>\n",
       "      <th>Unnamed: 0</th>\n",
       "      <th>Name</th>\n",
       "      <th>Experience</th>\n",
       "      <th>Location</th>\n",
       "      <th>Skills (Perc)</th>\n",
       "      <th>Resume Score</th>\n",
       "    </tr>\n",
       "  </thead>\n",
       "  <tbody>\n",
       "    <tr>\n",
       "      <th>0</th>\n",
       "      <td>NaN</td>\n",
       "      <td>Alexa George</td>\n",
       "      <td>5</td>\n",
       "      <td>644</td>\n",
       "      <td>56</td>\n",
       "      <td>81</td>\n",
       "    </tr>\n",
       "    <tr>\n",
       "      <th>1</th>\n",
       "      <td>NaN</td>\n",
       "      <td>Hope Schroeder</td>\n",
       "      <td>4</td>\n",
       "      <td>673</td>\n",
       "      <td>20</td>\n",
       "      <td>11</td>\n",
       "    </tr>\n",
       "    <tr>\n",
       "      <th>2</th>\n",
       "      <td>NaN</td>\n",
       "      <td>Emanuel Snyder</td>\n",
       "      <td>9</td>\n",
       "      <td>614</td>\n",
       "      <td>98</td>\n",
       "      <td>3</td>\n",
       "    </tr>\n",
       "    <tr>\n",
       "      <th>3</th>\n",
       "      <td>NaN</td>\n",
       "      <td>Elisa Poole</td>\n",
       "      <td>12</td>\n",
       "      <td>540</td>\n",
       "      <td>47</td>\n",
       "      <td>76</td>\n",
       "    </tr>\n",
       "    <tr>\n",
       "      <th>4</th>\n",
       "      <td>NaN</td>\n",
       "      <td>Alisson Allison</td>\n",
       "      <td>0</td>\n",
       "      <td>953</td>\n",
       "      <td>15</td>\n",
       "      <td>24</td>\n",
       "    </tr>\n",
       "  </tbody>\n",
       "</table>\n",
       "</div>"
      ],
      "text/plain": [
       "   Unnamed: 0             Name  Experience  Location  Skills (Perc)  \\\n",
       "0         NaN     Alexa George           5       644             56   \n",
       "1         NaN   Hope Schroeder           4       673             20   \n",
       "2         NaN   Emanuel Snyder           9       614             98   \n",
       "3         NaN      Elisa Poole          12       540             47   \n",
       "4         NaN  Alisson Allison           0       953             15   \n",
       "\n",
       "   Resume Score  \n",
       "0            81  \n",
       "1            11  \n",
       "2             3  \n",
       "3            76  \n",
       "4            24  "
      ]
     },
     "execution_count": 3,
     "metadata": {},
     "output_type": "execute_result"
    }
   ],
   "source": [
    "df.head()"
   ]
  },
  {
   "cell_type": "code",
   "execution_count": 4,
   "metadata": {},
   "outputs": [],
   "source": [
    "df=df.iloc[:,1:]"
   ]
  },
  {
   "cell_type": "code",
   "execution_count": 5,
   "metadata": {},
   "outputs": [
    {
     "data": {
      "text/html": [
       "<div>\n",
       "<style scoped>\n",
       "    .dataframe tbody tr th:only-of-type {\n",
       "        vertical-align: middle;\n",
       "    }\n",
       "\n",
       "    .dataframe tbody tr th {\n",
       "        vertical-align: top;\n",
       "    }\n",
       "\n",
       "    .dataframe thead th {\n",
       "        text-align: right;\n",
       "    }\n",
       "</style>\n",
       "<table border=\"1\" class=\"dataframe\">\n",
       "  <thead>\n",
       "    <tr style=\"text-align: right;\">\n",
       "      <th></th>\n",
       "      <th>Name</th>\n",
       "      <th>Experience</th>\n",
       "      <th>Location</th>\n",
       "      <th>Skills (Perc)</th>\n",
       "      <th>Resume Score</th>\n",
       "    </tr>\n",
       "  </thead>\n",
       "  <tbody>\n",
       "    <tr>\n",
       "      <th>0</th>\n",
       "      <td>Alexa George</td>\n",
       "      <td>5</td>\n",
       "      <td>644</td>\n",
       "      <td>56</td>\n",
       "      <td>81</td>\n",
       "    </tr>\n",
       "    <tr>\n",
       "      <th>1</th>\n",
       "      <td>Hope Schroeder</td>\n",
       "      <td>4</td>\n",
       "      <td>673</td>\n",
       "      <td>20</td>\n",
       "      <td>11</td>\n",
       "    </tr>\n",
       "    <tr>\n",
       "      <th>2</th>\n",
       "      <td>Emanuel Snyder</td>\n",
       "      <td>9</td>\n",
       "      <td>614</td>\n",
       "      <td>98</td>\n",
       "      <td>3</td>\n",
       "    </tr>\n",
       "    <tr>\n",
       "      <th>3</th>\n",
       "      <td>Elisa Poole</td>\n",
       "      <td>12</td>\n",
       "      <td>540</td>\n",
       "      <td>47</td>\n",
       "      <td>76</td>\n",
       "    </tr>\n",
       "    <tr>\n",
       "      <th>4</th>\n",
       "      <td>Alisson Allison</td>\n",
       "      <td>0</td>\n",
       "      <td>953</td>\n",
       "      <td>15</td>\n",
       "      <td>24</td>\n",
       "    </tr>\n",
       "  </tbody>\n",
       "</table>\n",
       "</div>"
      ],
      "text/plain": [
       "              Name  Experience  Location  Skills (Perc)  Resume Score\n",
       "0     Alexa George           5       644             56            81\n",
       "1   Hope Schroeder           4       673             20            11\n",
       "2   Emanuel Snyder           9       614             98             3\n",
       "3      Elisa Poole          12       540             47            76\n",
       "4  Alisson Allison           0       953             15            24"
      ]
     },
     "execution_count": 5,
     "metadata": {},
     "output_type": "execute_result"
    }
   ],
   "source": [
    "df.head()"
   ]
  },
  {
   "cell_type": "code",
   "execution_count": 6,
   "metadata": {},
   "outputs": [
    {
     "name": "stdout",
     "output_type": "stream",
     "text": [
      "<class 'pandas.core.frame.DataFrame'>\n",
      "RangeIndex: 30 entries, 0 to 29\n",
      "Data columns (total 5 columns):\n",
      " #   Column         Non-Null Count  Dtype \n",
      "---  ------         --------------  ----- \n",
      " 0   Name           30 non-null     object\n",
      " 1   Experience     30 non-null     int64 \n",
      " 2   Location       30 non-null     int64 \n",
      " 3   Skills (Perc)  30 non-null     int64 \n",
      " 4   Resume Score   30 non-null     int64 \n",
      "dtypes: int64(4), object(1)\n",
      "memory usage: 1.3+ KB\n"
     ]
    }
   ],
   "source": [
    "df.info()"
   ]
  },
  {
   "cell_type": "code",
   "execution_count": 7,
   "metadata": {
    "scrolled": true
   },
   "outputs": [
    {
     "data": {
      "text/html": [
       "<div>\n",
       "<style scoped>\n",
       "    .dataframe tbody tr th:only-of-type {\n",
       "        vertical-align: middle;\n",
       "    }\n",
       "\n",
       "    .dataframe tbody tr th {\n",
       "        vertical-align: top;\n",
       "    }\n",
       "\n",
       "    .dataframe thead th {\n",
       "        text-align: right;\n",
       "    }\n",
       "</style>\n",
       "<table border=\"1\" class=\"dataframe\">\n",
       "  <thead>\n",
       "    <tr style=\"text-align: right;\">\n",
       "      <th></th>\n",
       "      <th>Experience</th>\n",
       "      <th>Location</th>\n",
       "      <th>Skills (Perc)</th>\n",
       "      <th>Resume Score</th>\n",
       "    </tr>\n",
       "  </thead>\n",
       "  <tbody>\n",
       "    <tr>\n",
       "      <th>count</th>\n",
       "      <td>30.000000</td>\n",
       "      <td>30.000000</td>\n",
       "      <td>30.000000</td>\n",
       "      <td>30.00000</td>\n",
       "    </tr>\n",
       "    <tr>\n",
       "      <th>mean</th>\n",
       "      <td>5.933333</td>\n",
       "      <td>477.866667</td>\n",
       "      <td>44.066667</td>\n",
       "      <td>54.00000</td>\n",
       "    </tr>\n",
       "    <tr>\n",
       "      <th>std</th>\n",
       "      <td>3.675955</td>\n",
       "      <td>275.514783</td>\n",
       "      <td>27.314179</td>\n",
       "      <td>34.19518</td>\n",
       "    </tr>\n",
       "    <tr>\n",
       "      <th>min</th>\n",
       "      <td>0.000000</td>\n",
       "      <td>15.000000</td>\n",
       "      <td>0.000000</td>\n",
       "      <td>0.00000</td>\n",
       "    </tr>\n",
       "    <tr>\n",
       "      <th>25%</th>\n",
       "      <td>3.000000</td>\n",
       "      <td>247.250000</td>\n",
       "      <td>25.250000</td>\n",
       "      <td>21.75000</td>\n",
       "    </tr>\n",
       "    <tr>\n",
       "      <th>50%</th>\n",
       "      <td>5.500000</td>\n",
       "      <td>539.500000</td>\n",
       "      <td>38.000000</td>\n",
       "      <td>59.00000</td>\n",
       "    </tr>\n",
       "    <tr>\n",
       "      <th>75%</th>\n",
       "      <td>8.750000</td>\n",
       "      <td>667.250000</td>\n",
       "      <td>63.000000</td>\n",
       "      <td>84.00000</td>\n",
       "    </tr>\n",
       "    <tr>\n",
       "      <th>max</th>\n",
       "      <td>12.000000</td>\n",
       "      <td>953.000000</td>\n",
       "      <td>98.000000</td>\n",
       "      <td>99.00000</td>\n",
       "    </tr>\n",
       "  </tbody>\n",
       "</table>\n",
       "</div>"
      ],
      "text/plain": [
       "       Experience    Location  Skills (Perc)  Resume Score\n",
       "count   30.000000   30.000000      30.000000      30.00000\n",
       "mean     5.933333  477.866667      44.066667      54.00000\n",
       "std      3.675955  275.514783      27.314179      34.19518\n",
       "min      0.000000   15.000000       0.000000       0.00000\n",
       "25%      3.000000  247.250000      25.250000      21.75000\n",
       "50%      5.500000  539.500000      38.000000      59.00000\n",
       "75%      8.750000  667.250000      63.000000      84.00000\n",
       "max     12.000000  953.000000      98.000000      99.00000"
      ]
     },
     "execution_count": 7,
     "metadata": {},
     "output_type": "execute_result"
    }
   ],
   "source": [
    "df.describe()"
   ]
  },
  {
   "cell_type": "markdown",
   "metadata": {},
   "source": [
    "# 2.Visualizing the dataset"
   ]
  },
  {
   "cell_type": "code",
   "execution_count": 8,
   "metadata": {
    "scrolled": true
   },
   "outputs": [
    {
     "data": {
      "image/png": "[encoded data removed]",
      "text/plain": [
       "<Figure size 432x288 with 1 Axes>"
      ]
     },
     "metadata": {
      "needs_background": "light"
     },
     "output_type": "display_data"
    }
   ],
   "source": [
    "plt.hist(df['Location'],color='green',edgecolor='black')\n",
    "plt.xlabel('Distance')\n",
    "plt.ylabel('Frequency')\n",
    "plt.title(\"Histogram of distance\")\n",
    "plt.show()"
   ]
  },
  {
   "cell_type": "markdown",
   "metadata": {},
   "source": [
    "The distanc between 200-300 km is repeated the most"
   ]
  },
  {
   "cell_type": "code",
   "execution_count": 9,
   "metadata": {},
   "outputs": [
    {
     "data": {
      "image/png": "[encoded data removed]",
      "text/plain": [
       "<Figure size 432x288 with 1 Axes>"
      ]
     },
     "metadata": {
      "needs_background": "light"
     },
     "output_type": "display_data"
    }
   ],
   "source": [
    "df['Experience'].value_counts().plot(kind='bar')\n",
    "plt.xlabel('Experience')\n",
    "plt.ylabel('Frequency')\n",
    "plt.title('Experience Frequency')\n",
    "plt.show()"
   ]
  },
  {
   "cell_type": "markdown",
   "metadata": {},
   "source": [
    "Most people who applied in this group have 5,2 and 8 years respectively"
   ]
  },
  {
   "cell_type": "markdown",
   "metadata": {},
   "source": [
    "## Checking correaltion between the variables"
   ]
  },
  {
   "cell_type": "code",
   "execution_count": 10,
   "metadata": {},
   "outputs": [],
   "source": [
    "cor=df.corr()"
   ]
  },
  {
   "cell_type": "code",
   "execution_count": 11,
   "metadata": {
    "scrolled": true
   },
   "outputs": [
    {
     "data": {
      "image/png": "[encoded data removed]",
      "text/plain": [
       "<Figure size 432x288 with 2 Axes>"
      ]
     },
     "metadata": {
      "needs_background": "light"
     },
     "output_type": "display_data"
    }
   ],
   "source": [
    "sns.heatmap(cor,annot=True,cmap='Blues')\n",
    "plt.show()"
   ]
  },
  {
   "cell_type": "markdown",
   "metadata": {},
   "source": [
    "Nothing valuable can be inferred from this heatmap."
   ]
  },
  {
   "cell_type": "code",
   "execution_count": 83,
   "metadata": {},
   "outputs": [
    {
     "data": {
      "image/png": "[encoded data removed]",
      "text/plain": [
       "<Figure size 432x288 with 4 Axes>"
      ]
     },
     "metadata": {
      "needs_background": "light"
     },
     "output_type": "display_data"
    }
   ],
   "source": [
    "\n",
    "plt.suptitle(\"Checking for outliers\",color='Purple')\n",
    "\n",
    "plt.subplot(2,2,1)\n",
    "df['Experience'].plot(kind='box')\n",
    "\n",
    "plt.subplot(2,2,2)\n",
    "df['Location'].plot(kind='box')\n",
    "\n",
    "plt.subplot(2,2,3)\n",
    "df['Skills (Perc)'].plot(kind='box')\n",
    "\n",
    "plt.subplot(2,2,4)                        \n",
    "df['Resume Score'].plot(kind='box')\n",
    "\n",
    "plt.show()"
   ]
  },
  {
   "cell_type": "code",
   "execution_count": 12,
   "metadata": {},
   "outputs": [],
   "source": [
    "from sklearn.preprocessing import StandardScaler"
   ]
  },
  {
   "cell_type": "code",
   "execution_count": 13,
   "metadata": {},
   "outputs": [],
   "source": [
    "scaler=StandardScaler()"
   ]
  },
  {
   "cell_type": "code",
   "execution_count": 14,
   "metadata": {},
   "outputs": [],
   "source": [
    "num=df[['Experience', 'Location', 'Skills (Perc)', 'Resume Score']]\n",
    "\n",
    "#Numeric variables"
   ]
  },
  {
   "cell_type": "code",
   "execution_count": 15,
   "metadata": {},
   "outputs": [],
   "source": [
    "df1=scaler.fit_transform(num)"
   ]
  },
  {
   "cell_type": "code",
   "execution_count": 16,
   "metadata": {},
   "outputs": [],
   "source": [
    "df1=pd.DataFrame(df1)"
   ]
  },
  {
   "cell_type": "code",
   "execution_count": 17,
   "metadata": {},
   "outputs": [],
   "source": [
    "df1=df1.rename({0:'Experience',1:'Location',2:'Skills',3:'ResumeScore'},axis=1)"
   ]
  },
  {
   "cell_type": "code",
   "execution_count": 18,
   "metadata": {},
   "outputs": [
    {
     "data": {
      "text/html": [
       "<div>\n",
       "<style scoped>\n",
       "    .dataframe tbody tr th:only-of-type {\n",
       "        vertical-align: middle;\n",
       "    }\n",
       "\n",
       "    .dataframe tbody tr th {\n",
       "        vertical-align: top;\n",
       "    }\n",
       "\n",
       "    .dataframe thead th {\n",
       "        text-align: right;\n",
       "    }\n",
       "</style>\n",
       "<table border=\"1\" class=\"dataframe\">\n",
       "  <thead>\n",
       "    <tr style=\"text-align: right;\">\n",
       "      <th></th>\n",
       "      <th>Experience</th>\n",
       "      <th>Location</th>\n",
       "      <th>Skills</th>\n",
       "      <th>ResumeScore</th>\n",
       "    </tr>\n",
       "  </thead>\n",
       "  <tbody>\n",
       "    <tr>\n",
       "      <th>0</th>\n",
       "      <td>-0.258243</td>\n",
       "      <td>0.613301</td>\n",
       "      <td>0.444360</td>\n",
       "      <td>0.803083</td>\n",
       "    </tr>\n",
       "    <tr>\n",
       "      <th>1</th>\n",
       "      <td>-0.534932</td>\n",
       "      <td>0.720358</td>\n",
       "      <td>-0.896168</td>\n",
       "      <td>-1.278984</td>\n",
       "    </tr>\n",
       "    <tr>\n",
       "      <th>2</th>\n",
       "      <td>0.848512</td>\n",
       "      <td>0.502552</td>\n",
       "      <td>2.008310</td>\n",
       "      <td>-1.516935</td>\n",
       "    </tr>\n",
       "    <tr>\n",
       "      <th>3</th>\n",
       "      <td>1.678578</td>\n",
       "      <td>0.229373</td>\n",
       "      <td>0.109228</td>\n",
       "      <td>0.654364</td>\n",
       "    </tr>\n",
       "    <tr>\n",
       "      <th>4</th>\n",
       "      <td>-1.641686</td>\n",
       "      <td>1.754011</td>\n",
       "      <td>-1.082352</td>\n",
       "      <td>-0.892315</td>\n",
       "    </tr>\n",
       "  </tbody>\n",
       "</table>\n",
       "</div>"
      ],
      "text/plain": [
       "   Experience  Location    Skills  ResumeScore\n",
       "0   -0.258243  0.613301  0.444360     0.803083\n",
       "1   -0.534932  0.720358 -0.896168    -1.278984\n",
       "2    0.848512  0.502552  2.008310    -1.516935\n",
       "3    1.678578  0.229373  0.109228     0.654364\n",
       "4   -1.641686  1.754011 -1.082352    -0.892315"
      ]
     },
     "execution_count": 18,
     "metadata": {},
     "output_type": "execute_result"
    }
   ],
   "source": [
    "df1.head()"
   ]
  },
  {
   "cell_type": "markdown",
   "metadata": {},
   "source": [
    "# 3. Modelling"
   ]
  },
  {
   "cell_type": "code",
   "execution_count": 19,
   "metadata": {},
   "outputs": [],
   "source": [
    "from sklearn.cluster import KMeans"
   ]
  },
  {
   "cell_type": "markdown",
   "metadata": {},
   "source": [
    "- Picking an arbitary number for k-means to set centroid"
   ]
  },
  {
   "cell_type": "code",
   "execution_count": 20,
   "metadata": {},
   "outputs": [],
   "source": [
    "kmeans=KMeans(n_clusters=3,max_iter=50)"
   ]
  },
  {
   "cell_type": "code",
   "execution_count": 21,
   "metadata": {},
   "outputs": [
    {
     "data": {
      "text/plain": [
       "KMeans(algorithm='auto', copy_x=True, init='k-means++', max_iter=50,\n",
       "       n_clusters=3, n_init=10, n_jobs=None, precompute_distances='auto',\n",
       "       random_state=None, tol=0.0001, verbose=0)"
      ]
     },
     "execution_count": 21,
     "metadata": {},
     "output_type": "execute_result"
    }
   ],
   "source": [
    "kmeans.fit(df1)"
   ]
  },
  {
   "cell_type": "markdown",
   "metadata": {},
   "source": [
    "### The algorithm has made 3 clusters here"
   ]
  },
  {
   "cell_type": "code",
   "execution_count": 22,
   "metadata": {},
   "outputs": [
    {
     "data": {
      "text/plain": [
       "array([1, 2, 0, 0, 2, 1, 2, 0, 0, 1, 1, 1, 0, 1, 2, 0, 1, 1, 1, 2, 1, 2,\n",
       "       2, 2, 1, 0, 1, 1, 0, 2])"
      ]
     },
     "execution_count": 22,
     "metadata": {},
     "output_type": "execute_result"
    }
   ],
   "source": [
    "kmeans.labels_"
   ]
  },
  {
   "cell_type": "markdown",
   "metadata": {},
   "source": [
    "## 3.1 Silhoutte Analysis"
   ]
  },
  {
   "cell_type": "code",
   "execution_count": 23,
   "metadata": {},
   "outputs": [],
   "source": [
    "from sklearn.metrics import silhouette_score"
   ]
  },
  {
   "cell_type": "code",
   "execution_count": 24,
   "metadata": {},
   "outputs": [
    {
     "name": "stdout",
     "output_type": "stream",
     "text": [
      "For n_clusters=2, the silhouette score is 0.2157584504393906\n",
      "For n_clusters=3, the silhouette score is 0.218573719953437\n",
      "For n_clusters=4, the silhouette score is 0.21994021264108593\n",
      "For n_clusters=5, the silhouette score is 0.24550178931788885\n",
      "For n_clusters=6, the silhouette score is 0.26562965777123837\n",
      "For n_clusters=7, the silhouette score is 0.3015027278370761\n",
      "For n_clusters=8, the silhouette score is 0.28641762698564516\n"
     ]
    }
   ],
   "source": [
    "# silhouette analysis\n",
    "range_n_clusters = [2, 3, 4, 5, 6, 7, 8]\n",
    "\n",
    "for num_clusters in range_n_clusters:\n",
    "    \n",
    "    # intialise kmeans\n",
    "    kmeans = KMeans(n_clusters=num_clusters, max_iter=50)\n",
    "    kmeans.fit(df1)\n",
    "    \n",
    "    cluster_labels = kmeans.labels_\n",
    "    \n",
    "    # silhouette score\n",
    "    silhouette_avg = silhouette_score(df1, cluster_labels)\n",
    "    print(\"For n_clusters={0}, the silhouette score is {1}\".format(num_clusters, silhouette_avg))"
   ]
  },
  {
   "cell_type": "code",
   "execution_count": 25,
   "metadata": {},
   "outputs": [
    {
     "data": {
      "text/plain": [
       "KMeans(algorithm='auto', copy_x=True, init='k-means++', max_iter=50,\n",
       "       n_clusters=6, n_init=10, n_jobs=None, precompute_distances='auto',\n",
       "       random_state=0, tol=0.0001, verbose=0)"
      ]
     },
     "execution_count": 25,
     "metadata": {},
     "output_type": "execute_result"
    }
   ],
   "source": [
    "# final model with k=6\n",
    "kmeans = KMeans(n_clusters=6, max_iter=50,random_state=0)\n",
    "kmeans.fit(df1)"
   ]
  },
  {
   "cell_type": "code",
   "execution_count": 26,
   "metadata": {},
   "outputs": [],
   "source": [
    "# assign the label\n",
    "df1['cluster_id'] = kmeans.labels_\n"
   ]
  },
  {
   "cell_type": "code",
   "execution_count": 27,
   "metadata": {},
   "outputs": [],
   "source": [
    "df1['ResumeScore0']=df['Resume Score']"
   ]
  },
  {
   "cell_type": "code",
   "execution_count": 28,
   "metadata": {},
   "outputs": [],
   "source": [
    "df1[['Location_Dist','ExperienceYrs','SkillPerc']]=df[['Location','Experience','Skills (Perc)']]"
   ]
  },
  {
   "cell_type": "code",
   "execution_count": 64,
   "metadata": {
    "scrolled": true
   },
   "outputs": [
    {
     "data": {
      "text/html": [
       "<div>\n",
       "<style scoped>\n",
       "    .dataframe tbody tr th:only-of-type {\n",
       "        vertical-align: middle;\n",
       "    }\n",
       "\n",
       "    .dataframe tbody tr th {\n",
       "        vertical-align: top;\n",
       "    }\n",
       "\n",
       "    .dataframe thead th {\n",
       "        text-align: right;\n",
       "    }\n",
       "</style>\n",
       "<table border=\"1\" class=\"dataframe\">\n",
       "  <thead>\n",
       "    <tr style=\"text-align: right;\">\n",
       "      <th></th>\n",
       "      <th>Experience</th>\n",
       "      <th>Location</th>\n",
       "      <th>Skills</th>\n",
       "      <th>ResumeScore</th>\n",
       "      <th>cluster_id</th>\n",
       "      <th>ResumeScore0</th>\n",
       "      <th>Location_Dist</th>\n",
       "      <th>ExperienceYrs</th>\n",
       "      <th>SkillPerc</th>\n",
       "      <th>recommend</th>\n",
       "      <th>Total_Score</th>\n",
       "    </tr>\n",
       "  </thead>\n",
       "  <tbody>\n",
       "    <tr>\n",
       "      <th>15</th>\n",
       "      <td>1.125201</td>\n",
       "      <td>-1.302649</td>\n",
       "      <td>1.486993</td>\n",
       "      <td>1.338472</td>\n",
       "      <td>1</td>\n",
       "      <td>99</td>\n",
       "      <td>125</td>\n",
       "      <td>10</td>\n",
       "      <td>84</td>\n",
       "      <td>Highly Recommended Candidate</td>\n",
       "      <td>98.333333</td>\n",
       "    </tr>\n",
       "    <tr>\n",
       "      <th>24</th>\n",
       "      <td>1.125201</td>\n",
       "      <td>0.635450</td>\n",
       "      <td>-0.523799</td>\n",
       "      <td>1.338472</td>\n",
       "      <td>5</td>\n",
       "      <td>99</td>\n",
       "      <td>650</td>\n",
       "      <td>10</td>\n",
       "      <td>30</td>\n",
       "      <td>Not recommended</td>\n",
       "      <td>98.333333</td>\n",
       "    </tr>\n",
       "    <tr>\n",
       "      <th>11</th>\n",
       "      <td>-0.811620</td>\n",
       "      <td>-1.454005</td>\n",
       "      <td>1.114624</td>\n",
       "      <td>1.308728</td>\n",
       "      <td>1</td>\n",
       "      <td>98</td>\n",
       "      <td>84</td>\n",
       "      <td>3</td>\n",
       "      <td>74</td>\n",
       "      <td>Highly Recommended Candidate</td>\n",
       "      <td>93.333333</td>\n",
       "    </tr>\n",
       "    <tr>\n",
       "      <th>18</th>\n",
       "      <td>-1.088309</td>\n",
       "      <td>-0.667691</td>\n",
       "      <td>-1.491958</td>\n",
       "      <td>1.189753</td>\n",
       "      <td>4</td>\n",
       "      <td>94</td>\n",
       "      <td>297</td>\n",
       "      <td>2</td>\n",
       "      <td>4</td>\n",
       "      <td>moderately Recommended Candidate</td>\n",
       "      <td>90.000000</td>\n",
       "    </tr>\n",
       "    <tr>\n",
       "      <th>20</th>\n",
       "      <td>0.571823</td>\n",
       "      <td>-0.748906</td>\n",
       "      <td>-0.188667</td>\n",
       "      <td>1.100521</td>\n",
       "      <td>2</td>\n",
       "      <td>91</td>\n",
       "      <td>275</td>\n",
       "      <td>8</td>\n",
       "      <td>39</td>\n",
       "      <td>Low recommended candidate</td>\n",
       "      <td>86.666667</td>\n",
       "    </tr>\n",
       "  </tbody>\n",
       "</table>\n",
       "</div>"
      ],
      "text/plain": [
       "    Experience  Location    Skills  ResumeScore  cluster_id  ResumeScore0  \\\n",
       "15    1.125201 -1.302649  1.486993     1.338472           1            99   \n",
       "24    1.125201  0.635450 -0.523799     1.338472           5            99   \n",
       "11   -0.811620 -1.454005  1.114624     1.308728           1            98   \n",
       "18   -1.088309 -0.667691 -1.491958     1.189753           4            94   \n",
       "20    0.571823 -0.748906 -0.188667     1.100521           2            91   \n",
       "\n",
       "    Location_Dist  ExperienceYrs  SkillPerc                         recommend  \\\n",
       "15            125             10         84      Highly Recommended Candidate   \n",
       "24            650             10         30                   Not recommended   \n",
       "11             84              3         74      Highly Recommended Candidate   \n",
       "18            297              2          4  moderately Recommended Candidate   \n",
       "20            275              8         39         Low recommended candidate   \n",
       "\n",
       "    Total_Score  \n",
       "15    98.333333  \n",
       "24    98.333333  \n",
       "11    93.333333  \n",
       "18    90.000000  \n",
       "20    86.666667  "
      ]
     },
     "execution_count": 64,
     "metadata": {},
     "output_type": "execute_result"
    }
   ],
   "source": [
    "df1.head()"
   ]
  },
  {
   "cell_type": "markdown",
   "metadata": {},
   "source": [
    "- 4 seems to be the ideal one rn based on location and resume score\n",
    "- 1 seem to be ideal one based on location, resume score and skill perc\n",
    "- 2 seems to better than 4 on skill perc but does not compare with resume score"
   ]
  },
  {
   "cell_type": "code",
   "execution_count": 30,
   "metadata": {},
   "outputs": [],
   "source": [
    "def rec(x):\n",
    "    if x==1:\n",
    "        return \"Highly Recommended Candidate\"\n",
    "    elif x==4:\n",
    "        return \"moderately Recommended Candidate\"\n",
    "    elif x==2:\n",
    "        return \"Low recommended candidate\"\n",
    "    else:\n",
    "        return \"Not recommended\"\n",
    "    "
   ]
  },
  {
   "cell_type": "code",
   "execution_count": 31,
   "metadata": {},
   "outputs": [],
   "source": [
    "df1['recommend']=df1['cluster_id'].apply(rec)"
   ]
  },
  {
   "cell_type": "code",
   "execution_count": 84,
   "metadata": {},
   "outputs": [
    {
     "data": {
      "text/html": [
       "<div>\n",
       "<style scoped>\n",
       "    .dataframe tbody tr th:only-of-type {\n",
       "        vertical-align: middle;\n",
       "    }\n",
       "\n",
       "    .dataframe tbody tr th {\n",
       "        vertical-align: top;\n",
       "    }\n",
       "\n",
       "    .dataframe thead th {\n",
       "        text-align: right;\n",
       "    }\n",
       "</style>\n",
       "<table border=\"1\" class=\"dataframe\">\n",
       "  <thead>\n",
       "    <tr style=\"text-align: right;\">\n",
       "      <th></th>\n",
       "      <th>Experience</th>\n",
       "      <th>Location</th>\n",
       "      <th>Skills</th>\n",
       "      <th>ResumeScore</th>\n",
       "      <th>cluster_id</th>\n",
       "      <th>ResumeScore0</th>\n",
       "      <th>Location_Dist</th>\n",
       "      <th>ExperienceYrs</th>\n",
       "      <th>SkillPerc</th>\n",
       "      <th>recommend</th>\n",
       "      <th>Total_Score</th>\n",
       "    </tr>\n",
       "  </thead>\n",
       "  <tbody>\n",
       "    <tr>\n",
       "      <th>15</th>\n",
       "      <td>1.125201</td>\n",
       "      <td>-1.302649</td>\n",
       "      <td>1.486993</td>\n",
       "      <td>1.338472</td>\n",
       "      <td>1</td>\n",
       "      <td>99</td>\n",
       "      <td>125</td>\n",
       "      <td>10</td>\n",
       "      <td>84</td>\n",
       "      <td>Highly Recommended Candidate</td>\n",
       "      <td>98.333333</td>\n",
       "    </tr>\n",
       "    <tr>\n",
       "      <th>11</th>\n",
       "      <td>-0.811620</td>\n",
       "      <td>-1.454005</td>\n",
       "      <td>1.114624</td>\n",
       "      <td>1.308728</td>\n",
       "      <td>1</td>\n",
       "      <td>98</td>\n",
       "      <td>84</td>\n",
       "      <td>3</td>\n",
       "      <td>74</td>\n",
       "      <td>Highly Recommended Candidate</td>\n",
       "      <td>93.333333</td>\n",
       "    </tr>\n",
       "    <tr>\n",
       "      <th>18</th>\n",
       "      <td>-1.088309</td>\n",
       "      <td>-0.667691</td>\n",
       "      <td>-1.491958</td>\n",
       "      <td>1.189753</td>\n",
       "      <td>4</td>\n",
       "      <td>94</td>\n",
       "      <td>297</td>\n",
       "      <td>2</td>\n",
       "      <td>4</td>\n",
       "      <td>moderately Recommended Candidate</td>\n",
       "      <td>90.000000</td>\n",
       "    </tr>\n",
       "    <tr>\n",
       "      <th>20</th>\n",
       "      <td>0.571823</td>\n",
       "      <td>-0.748906</td>\n",
       "      <td>-0.188667</td>\n",
       "      <td>1.100521</td>\n",
       "      <td>2</td>\n",
       "      <td>91</td>\n",
       "      <td>275</td>\n",
       "      <td>8</td>\n",
       "      <td>39</td>\n",
       "      <td>Low recommended candidate</td>\n",
       "      <td>86.666667</td>\n",
       "    </tr>\n",
       "    <tr>\n",
       "      <th>12</th>\n",
       "      <td>0.018446</td>\n",
       "      <td>0.325355</td>\n",
       "      <td>1.598704</td>\n",
       "      <td>1.070777</td>\n",
       "      <td>1</td>\n",
       "      <td>90</td>\n",
       "      <td>566</td>\n",
       "      <td>6</td>\n",
       "      <td>87</td>\n",
       "      <td>Highly Recommended Candidate</td>\n",
       "      <td>83.333333</td>\n",
       "    </tr>\n",
       "  </tbody>\n",
       "</table>\n",
       "</div>"
      ],
      "text/plain": [
       "    Experience  Location    Skills  ResumeScore  cluster_id  ResumeScore0  \\\n",
       "15    1.125201 -1.302649  1.486993     1.338472           1            99   \n",
       "11   -0.811620 -1.454005  1.114624     1.308728           1            98   \n",
       "18   -1.088309 -0.667691 -1.491958     1.189753           4            94   \n",
       "20    0.571823 -0.748906 -0.188667     1.100521           2            91   \n",
       "12    0.018446  0.325355  1.598704     1.070777           1            90   \n",
       "\n",
       "    Location_Dist  ExperienceYrs  SkillPerc                         recommend  \\\n",
       "15            125             10         84      Highly Recommended Candidate   \n",
       "11             84              3         74      Highly Recommended Candidate   \n",
       "18            297              2          4  moderately Recommended Candidate   \n",
       "20            275              8         39         Low recommended candidate   \n",
       "12            566              6         87      Highly Recommended Candidate   \n",
       "\n",
       "    Total_Score  \n",
       "15    98.333333  \n",
       "11    93.333333  \n",
       "18    90.000000  \n",
       "20    86.666667  \n",
       "12    83.333333  "
      ]
     },
     "execution_count": 84,
     "metadata": {},
     "output_type": "execute_result"
    }
   ],
   "source": [
    "df1[(df1['recommend']!='Not recommended')].head()"
   ]
  },
  {
   "cell_type": "code",
   "execution_count": 33,
   "metadata": {},
   "outputs": [],
   "source": [
    "import numpy as np"
   ]
  },
  {
   "cell_type": "code",
   "execution_count": 34,
   "metadata": {},
   "outputs": [],
   "source": [
    "df1['Total_Score']=df1[\"ResumeScore0\"].rank(pct=True)*100"
   ]
  },
  {
   "cell_type": "code",
   "execution_count": 35,
   "metadata": {},
   "outputs": [],
   "source": [
    "df1=df1.sort_values(by=['Total_Score'],ascending=False)"
   ]
  },
  {
   "cell_type": "markdown",
   "metadata": {},
   "source": [
    "# 4. Job Description and Resume Parser"
   ]
  },
  {
   "cell_type": "markdown",
   "metadata": {},
   "source": [
    "## 4.1 Parsing the Resume"
   ]
  },
  {
   "cell_type": "code",
   "execution_count": 36,
   "metadata": {},
   "outputs": [],
   "source": [
    "\n",
    "\n",
    "#!pip install --user https://github.com/explosion/spacy-models/releases/download/en_core_web_sm-2.3.1/en_core_web_sm-2.3.1.tar.gz\n",
    "\n",
    "#!pip install --user pyresparser\n",
    "\n",
    "#!pip install --user nltk\n",
    "\n",
    "#!python -m spacy download en_core_web_sm --user\n",
    "#nltk.download('stopwords')\n",
    "\n",
    "#!python -m spacy validate "
   ]
  },
  {
   "cell_type": "code",
   "execution_count": 37,
   "metadata": {},
   "outputs": [],
   "source": [
    "from pyresparser import ResumeParser\n"
   ]
  },
  {
   "cell_type": "code",
   "execution_count": 38,
   "metadata": {},
   "outputs": [],
   "source": [
    "k=\"C:/Users/Srikar/Desktop/Study Stuff/Personal Projects/Candidate-Recommendation System/Srikar_resume.pdf\""
   ]
  },
  {
   "cell_type": "code",
   "execution_count": 39,
   "metadata": {},
   "outputs": [],
   "source": [
    "data = ResumeParser(k).get_extracted_data()\n"
   ]
  },
  {
   "cell_type": "code",
   "execution_count": 40,
   "metadata": {},
   "outputs": [
    {
     "name": "stdout",
     "output_type": "stream",
     "text": [
      "{'name': 'Srikar R', 'email': 'rsrikar1509@gmail.com', 'mobile_number': '8861475511', 'skills': ['Mathematics', 'Programming', 'Money', 'Analytical', 'Reports', 'Ui', 'Pivot', 'Analytics', 'R', 'Mysql', 'Segmentation', 'Python', 'Sql', 'Spreadsheets', 'Statistics', 'Writing', 'Budget', 'Microsoft excel', 'Matplotlib', 'Data analytics', 'Research', 'Math', 'Pandas', 'Seaborn', 'Analyze', 'Numpy', 'Ms excel', 'Data collection', 'Queries', 'Transactions', 'Technical', 'Pivot tables', 'Excel', 'Plan', 'Economics', 'Analysis'], 'college_name': None, 'degree': ['Bachelor of Science in Economics, \\nMathematics and Statistics'], 'designation': ['Intern Analyst', 'Data Analyst'], 'experience': ['Intern Analyst', 'Tatvam Analytics', \"Mar '20- May '20\", 'Bengaluru, IN', 'Summarized data using Microsoft Excel Pivot Tables for generating reports for the', 'team', 'Prepared charts and informative dashboards using Microsoft Excel to deliver', 'findings and inferences. Responsibilities included collecting data, cleaning and', 'aggregating data ,analyze data and writing reports', 'Helped identify and remove unnecessary features of the product and help improve', 'the UI of the product'], 'company_names': ['Tatvam Analytics'], 'no_of_pages': 1, 'total_experience': 0.0}\n"
     ]
    }
   ],
   "source": [
    "print(data)"
   ]
  },
  {
   "cell_type": "code",
   "execution_count": 41,
   "metadata": {},
   "outputs": [
    {
     "data": {
      "text/plain": [
       "dict_keys(['name', 'email', 'mobile_number', 'skills', 'college_name', 'degree', 'designation', 'experience', 'company_names', 'no_of_pages', 'total_experience'])"
      ]
     },
     "execution_count": 41,
     "metadata": {},
     "output_type": "execute_result"
    }
   ],
   "source": [
    "data.keys()"
   ]
  },
  {
   "cell_type": "code",
   "execution_count": 42,
   "metadata": {},
   "outputs": [
    {
     "data": {
      "text/plain": [
       "['Bachelor of Science in Economics, \\nMathematics and Statistics']"
      ]
     },
     "execution_count": 42,
     "metadata": {},
     "output_type": "execute_result"
    }
   ],
   "source": [
    "data['degree']"
   ]
  },
  {
   "cell_type": "code",
   "execution_count": null,
   "metadata": {},
   "outputs": [],
   "source": []
  },
  {
   "cell_type": "markdown",
   "metadata": {},
   "source": [
    "## 4.2 Parsing the job descrption"
   ]
  },
  {
   "cell_type": "code",
   "execution_count": 43,
   "metadata": {},
   "outputs": [
    {
     "name": "stdout",
     "output_type": "stream",
     "text": [
      "<class 'str'>\n"
     ]
    }
   ],
   "source": [
    "n=\"\"\"With a startup spirit and 90,000+ curious and courageous minds, we have the expertise to go deep with the world’s biggest brands—and we have fun doing it. Now, we’re calling all you rule-breakers and risk-takers who see the world differently and are bold enough to reinvent it.\n",
    "\n",
    "Transformation happens here. Come, be a part of our exciting journey!\n",
    "\n",
    "Are you the one we are looking for?\n",
    "\n",
    "Inviting applications for the role of Business Analyst, Data Scientist\n",
    "\n",
    "In this role, the focus is to have enterprise-level experience for Machine Learning Model build, validation, scoring, monitoring, etc and do analysis on back-office operations, be able to understand and translate and integrate the analysis from back-office to front-office.\n",
    "\n",
    "Responsibilities\n",
    "\n",
    "To deal with huge data, have a good understanding of data science, and have worked on relational databases.\n",
    "Analyzing data and provide key findings with potential business impact\n",
    "Responsible for Model Build.\n",
    "Selecting features, building and optimizing classifiers using machine learning techniques.\n",
    "Solving problems by applying knowledge of data mining and machine learning.\n",
    "Project Management and Client Interaction.\n",
    "Ensuring Quality through best practices and compliance to the framework, architecture, and coding standards.\n",
    "\n",
    "Qualifications we seek in you!\n",
    "\n",
    "Minimum Qualifications\n",
    "\n",
    "M.A. in Economics or M.S. in Statistics with relevant experience in Data Science/advanced analytics and Practice\n",
    "Mathematics and Statistical Background\n",
    "High level of intellectual curiosity about the Data Science and Analytics\n",
    "Extensive Experience with Analytics products and solutions\n",
    "Prior Experience with the Model build (Python / SQL scripts)\n",
    "Predictive Analytics – Well versed with AI and Machine Learning\n",
    "Good applied statistics skills, such as distributions, statistical testing, regression, etc.\n",
    "Building and implementing models, using/creating algorithms, and creating/running simulations using a variety of Tools\n",
    "Knowledge and experience of tools/techniques: Forecasting, Linear Regression, Logistic Regression, Regularization, Segmentation (Decision Trees, CHAID, CART), Cluster Analysis, Factor Analysis, variable screening, Machine Learning – Random Forest, Gradient Boosting, SVM, XGBoost.\n",
    "\n",
    "Preferred Qualifications\n",
    "\n",
    "Passion for analytics, technology, and a keen learner to stay abreast on what’s latest\n",
    "Ability to inspire and influence change in technology application\n",
    "Ability to work in diverse teams and with multiple stakeholders\n",
    "Conflict management and negotiation skills\n",
    "Skill gap identification and development of our global teams\n",
    "Excellent verbal and written communication skills\"\"\"\n",
    "print(type(n))"
   ]
  },
  {
   "cell_type": "code",
   "execution_count": 44,
   "metadata": {},
   "outputs": [
    {
     "data": {
      "text/plain": [
       "103"
      ]
     },
     "execution_count": 44,
     "metadata": {},
     "output_type": "execute_result"
    }
   ],
   "source": [
    "jd_list=n.split(' ')\n",
    "len(k)"
   ]
  },
  {
   "cell_type": "markdown",
   "metadata": {},
   "source": [
    "# 5. Making the resume Score"
   ]
  },
  {
   "cell_type": "code",
   "execution_count": 45,
   "metadata": {},
   "outputs": [
    {
     "data": {
      "text/plain": [
       "dict_keys(['name', 'email', 'mobile_number', 'skills', 'college_name', 'degree', 'designation', 'experience', 'company_names', 'no_of_pages', 'total_experience'])"
      ]
     },
     "execution_count": 45,
     "metadata": {},
     "output_type": "execute_result"
    }
   ],
   "source": [
    "data.keys()"
   ]
  },
  {
   "cell_type": "code",
   "execution_count": 46,
   "metadata": {},
   "outputs": [],
   "source": [
    "resume_list=data['skills']+data['degree']+data['designation']+data['experience']+[data['total_experience']]"
   ]
  },
  {
   "cell_type": "code",
   "execution_count": 47,
   "metadata": {},
   "outputs": [],
   "source": [
    "res=set(resume_list)\n",
    "jd=set(jd_list)"
   ]
  },
  {
   "cell_type": "code",
   "execution_count": 48,
   "metadata": {},
   "outputs": [
    {
     "data": {
      "text/plain": [
       "1.7316017316017316"
      ]
     },
     "execution_count": 48,
     "metadata": {},
     "output_type": "execute_result"
    }
   ],
   "source": [
    "len(jd.intersection(res))/len(jd)*100"
   ]
  },
  {
   "cell_type": "markdown",
   "metadata": {},
   "source": [
    "# 6. Iterating it through multiple files"
   ]
  },
  {
   "cell_type": "code",
   "execution_count": 49,
   "metadata": {},
   "outputs": [],
   "source": [
    "#pip install --user os-sys"
   ]
  },
  {
   "cell_type": "code",
   "execution_count": 50,
   "metadata": {},
   "outputs": [],
   "source": [
    "from os import listdir"
   ]
  },
  {
   "cell_type": "code",
   "execution_count": 51,
   "metadata": {},
   "outputs": [],
   "source": [
    "path=listdir('C:/Users/Srikar/Desktop/Study Stuff/Personal Projects/Candidate-Recommendation System/Resume')"
   ]
  },
  {
   "cell_type": "code",
   "execution_count": 52,
   "metadata": {},
   "outputs": [
    {
     "name": "stdout",
     "output_type": "stream",
     "text": [
      "4\n"
     ]
    }
   ],
   "source": [
    "n=len(path)\n",
    "print(n)"
   ]
  },
  {
   "cell_type": "code",
   "execution_count": 53,
   "metadata": {},
   "outputs": [
    {
     "data": {
      "text/plain": [
       "\"Panna's Resume.pdf\""
      ]
     },
     "execution_count": 53,
     "metadata": {},
     "output_type": "execute_result"
    }
   ],
   "source": [
    "path[0]"
   ]
  },
  {
   "cell_type": "code",
   "execution_count": 54,
   "metadata": {},
   "outputs": [],
   "source": [
    "a=ResumeParser(path[0]).get_extracted_data()\n",
    "b=ResumeParser(path[1]).get_extracted_data()\n",
    "c=ResumeParser(path[2]).get_extracted_data()"
   ]
  },
  {
   "cell_type": "code",
   "execution_count": 55,
   "metadata": {},
   "outputs": [
    {
     "name": "stdout",
     "output_type": "stream",
     "text": [
      "{'name': 'Panna Freestyle', 'email': 'raikycraftgaming@gmail.com', 'mobile_number': None, 'skills': ['System', 'Python', 'Ai'], 'college_name': None, 'degree': ['Study Program \\nInstitution/Place of Education'], 'designation': None, 'experience': [], 'company_names': None, 'no_of_pages': 1, 'total_experience': 0.0}\n"
     ]
    }
   ],
   "source": [
    "print(a)"
   ]
  },
  {
   "cell_type": "code",
   "execution_count": 56,
   "metadata": {},
   "outputs": [
    {
     "name": "stdout",
     "output_type": "stream",
     "text": [
      "{'name': 'Srikar R', 'email': 'rsrikar1509@gmail.com', 'mobile_number': '8861475511', 'skills': ['Mathematics', 'Programming', 'Money', 'Analytical', 'Reports', 'Ui', 'Pivot', 'Analytics', 'R', 'Mysql', 'Segmentation', 'Python', 'Sql', 'Spreadsheets', 'Statistics', 'Writing', 'Budget', 'Microsoft excel', 'Matplotlib', 'Data analytics', 'Research', 'Math', 'Pandas', 'Seaborn', 'Analyze', 'Numpy', 'Ms excel', 'Data collection', 'Queries', 'Transactions', 'Technical', 'Pivot tables', 'Excel', 'Plan', 'Economics', 'Analysis'], 'college_name': None, 'degree': ['Bachelor of Science in Economics, \\nMathematics and Statistics'], 'designation': ['Intern Analyst', 'Data Analyst'], 'experience': ['Intern Analyst', 'Tatvam Analytics', \"Mar '20- May '20\", 'Bengaluru, IN', 'Summarized data using Microsoft Excel Pivot Tables for generating reports for the', 'team', 'Prepared charts and informative dashboards using Microsoft Excel to deliver', 'findings and inferences. Responsibilities included collecting data, cleaning and', 'aggregating data ,analyze data and writing reports', 'Helped identify and remove unnecessary features of the product and help improve', 'the UI of the product'], 'company_names': ['Tatvam Analytics'], 'no_of_pages': 1, 'total_experience': 0.0}\n"
     ]
    }
   ],
   "source": [
    "print(b)"
   ]
  },
  {
   "cell_type": "code",
   "execution_count": 57,
   "metadata": {},
   "outputs": [
    {
     "name": "stdout",
     "output_type": "stream",
     "text": [
      "{'name': 'Srikar R', 'email': 'rsrikar1509@gmail.com', 'mobile_number': '8861475511', 'skills': ['Mathematics', 'Programming', 'Money', 'Analytical', 'Reports', 'Ui', 'Pivot', 'Analytics', 'R', 'Mysql', 'Segmentation', 'Python', 'Sql', 'Spreadsheets', 'Statistics', 'Writing', 'Budget', 'Microsoft excel', 'Matplotlib', 'Data analytics', 'Research', 'Math', 'Pandas', 'Seaborn', 'Analyze', 'Numpy', 'Ms excel', 'Data collection', 'Queries', 'Transactions', 'Technical', 'Pivot tables', 'Excel', 'Plan', 'Economics', 'Analysis'], 'college_name': None, 'degree': ['Bachelor of Science in Economics, \\nMathematics and Statistics'], 'designation': ['Intern Analyst', 'Data Analyst'], 'experience': ['Intern Analyst', 'Tatvam Analytics', \"Mar '20- May '20\", 'Bengaluru, IN', 'Summarized data using Microsoft Excel Pivot Tables for generating reports for the', 'team', 'Prepared charts and informative dashboards using Microsoft Excel to deliver', 'findings and inferences. Responsibilities included collecting data, cleaning and', 'aggregating data ,analyze data and writing reports', 'Helped identify and remove unnecessary features of the product and help improve', 'the UI of the product'], 'company_names': ['Tatvam Analytics'], 'no_of_pages': 1, 'total_experience': 0.0}\n"
     ]
    }
   ],
   "source": [
    "print(c)"
   ]
  },
  {
   "cell_type": "code",
   "execution_count": 58,
   "metadata": {},
   "outputs": [],
   "source": [
    "resume_list1=a['skills']+a['degree']+a['experience']+[a['total_experience']]+[a['name']]"
   ]
  },
  {
   "cell_type": "code",
   "execution_count": 59,
   "metadata": {},
   "outputs": [],
   "source": [
    "resume_list2=b['skills']+b['degree']+b['designation']+b['experience']+[b['total_experience']]+[b['name']]"
   ]
  },
  {
   "cell_type": "code",
   "execution_count": 60,
   "metadata": {},
   "outputs": [],
   "source": [
    "res1=set(resume_list1)\n",
    "res2=set(resume_list2)\n"
   ]
  },
  {
   "cell_type": "code",
   "execution_count": 61,
   "metadata": {},
   "outputs": [],
   "source": [
    "b={b['name']:len(jd.intersection(res2))/len(jd)*100}"
   ]
  },
  {
   "cell_type": "code",
   "execution_count": 62,
   "metadata": {},
   "outputs": [
    {
     "name": "stdout",
     "output_type": "stream",
     "text": [
      "{'Srikar R': 1.7316017316017316}\n"
     ]
    }
   ],
   "source": [
    "print(b)"
   ]
  },
  {
   "cell_type": "markdown",
   "metadata": {},
   "source": [
    "## Final "
   ]
  },
  {
   "cell_type": "code",
   "execution_count": 86,
   "metadata": {},
   "outputs": [],
   "source": [
    "df3=df1[['Total_Score','recommend']]"
   ]
  },
  {
   "cell_type": "code",
   "execution_count": 87,
   "metadata": {},
   "outputs": [
    {
     "name": "stderr",
     "output_type": "stream",
     "text": [
      "C:\\Users\\Srikar\\anaconda3\\lib\\site-packages\\ipykernel_launcher.py:1: SettingWithCopyWarning: \n",
      "A value is trying to be set on a copy of a slice from a DataFrame.\n",
      "Try using .loc[row_indexer,col_indexer] = value instead\n",
      "\n",
      "See the caveats in the documentation: https://pandas.pydata.org/pandas-docs/stable/user_guide/indexing.html#returning-a-view-versus-a-copy\n",
      "  \"\"\"Entry point for launching an IPython kernel.\n"
     ]
    }
   ],
   "source": [
    "df3['Name']=df['Name']"
   ]
  },
  {
   "cell_type": "code",
   "execution_count": 88,
   "metadata": {},
   "outputs": [],
   "source": [
    "cols = df3.columns.tolist()"
   ]
  },
  {
   "cell_type": "code",
   "execution_count": 94,
   "metadata": {},
   "outputs": [],
   "source": [
    "df3=df3[['Name','recommend','Total_Score']]"
   ]
  },
  {
   "cell_type": "code",
   "execution_count": 97,
   "metadata": {},
   "outputs": [
    {
     "data": {
      "text/html": [
       "<div>\n",
       "<style scoped>\n",
       "    .dataframe tbody tr th:only-of-type {\n",
       "        vertical-align: middle;\n",
       "    }\n",
       "\n",
       "    .dataframe tbody tr th {\n",
       "        vertical-align: top;\n",
       "    }\n",
       "\n",
       "    .dataframe thead th {\n",
       "        text-align: right;\n",
       "    }\n",
       "</style>\n",
       "<table border=\"1\" class=\"dataframe\">\n",
       "  <thead>\n",
       "    <tr style=\"text-align: right;\">\n",
       "      <th></th>\n",
       "      <th>Name</th>\n",
       "      <th>recommend</th>\n",
       "      <th>Total_Score</th>\n",
       "    </tr>\n",
       "  </thead>\n",
       "  <tbody>\n",
       "    <tr>\n",
       "      <th>15</th>\n",
       "      <td>Princess Schneider</td>\n",
       "      <td>Highly Recommended Candidate</td>\n",
       "      <td>98.333333</td>\n",
       "    </tr>\n",
       "    <tr>\n",
       "      <th>24</th>\n",
       "      <td>Cassandra Morrow</td>\n",
       "      <td>Not recommended</td>\n",
       "      <td>98.333333</td>\n",
       "    </tr>\n",
       "    <tr>\n",
       "      <th>11</th>\n",
       "      <td>Allyson Andrade</td>\n",
       "      <td>Highly Recommended Candidate</td>\n",
       "      <td>93.333333</td>\n",
       "    </tr>\n",
       "    <tr>\n",
       "      <th>18</th>\n",
       "      <td>Kolby Vaughan</td>\n",
       "      <td>moderately Recommended Candidate</td>\n",
       "      <td>90.000000</td>\n",
       "    </tr>\n",
       "    <tr>\n",
       "      <th>20</th>\n",
       "      <td>Kamari Rivers</td>\n",
       "      <td>Low recommended candidate</td>\n",
       "      <td>86.666667</td>\n",
       "    </tr>\n",
       "    <tr>\n",
       "      <th>12</th>\n",
       "      <td>Aydan Shannon</td>\n",
       "      <td>Highly Recommended Candidate</td>\n",
       "      <td>83.333333</td>\n",
       "    </tr>\n",
       "    <tr>\n",
       "      <th>16</th>\n",
       "      <td>Jocelynn Golden</td>\n",
       "      <td>moderately Recommended Candidate</td>\n",
       "      <td>80.000000</td>\n",
       "    </tr>\n",
       "  </tbody>\n",
       "</table>\n",
       "</div>"
      ],
      "text/plain": [
       "                  Name                         recommend  Total_Score\n",
       "15  Princess Schneider      Highly Recommended Candidate    98.333333\n",
       "24    Cassandra Morrow                   Not recommended    98.333333\n",
       "11     Allyson Andrade      Highly Recommended Candidate    93.333333\n",
       "18       Kolby Vaughan  moderately Recommended Candidate    90.000000\n",
       "20       Kamari Rivers         Low recommended candidate    86.666667\n",
       "12       Aydan Shannon      Highly Recommended Candidate    83.333333\n",
       "16     Jocelynn Golden  moderately Recommended Candidate    80.000000"
      ]
     },
     "execution_count": 97,
     "metadata": {},
     "output_type": "execute_result"
    }
   ],
   "source": [
    "df3.head(7)"
   ]
  }
 ],
 "metadata": {
  "kernelspec": {
   "display_name": "Python 3",
   "language": "python",
   "name": "python3"
  },
  "language_info": {
   "codemirror_mode": {
    "name": "ipython",
    "version": 3
   },
   "file_extension": ".py",
   "mimetype": "text/x-python",
   "name": "python",
   "nbconvert_exporter": "python",
   "pygments_lexer": "ipython3",
   "version": "3.7.6"
  }
 },
 "nbformat": 4,
 "nbformat_minor": 4
}
